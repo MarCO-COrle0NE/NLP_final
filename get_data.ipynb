{
 "cells": [
  {
   "cell_type": "code",
   "execution_count": null,
   "metadata": {},
   "outputs": [],
   "source": [
    "# import urllib.request\n",
    "# from bs4 import BeautifulSoup\n",
    "# import csv\n",
    "# import pandas as pd\n",
    "# import numpy as np\n",
    "# import requests \n",
    "# import html5lib\n",
    "# import urllib3"
   ]
  },
  {
   "cell_type": "code",
   "execution_count": 1,
   "metadata": {},
   "outputs": [],
   "source": [
    "from selenium import webdriver\n",
    "from selenium.webdriver.common.by import By\n",
    "import os"
   ]
  },
  {
   "cell_type": "code",
   "execution_count": 2,
   "metadata": {},
   "outputs": [],
   "source": [
    "os.environ['PATH'] += r\"/Users/marcolee/Desktop/chromedriver_mac_arm64\"\n",
    "driver = webdriver.Chrome()\n",
    "url = \"https://chooseyourstory.com/Stories/Sci-Fi.aspx\"\n",
    "driver.get(url)\n",
    "original_window = driver.current_window_handle\n",
    "driver.implicitly_wait(5)"
   ]
  },
  {
   "cell_type": "code",
   "execution_count": 3,
   "metadata": {},
   "outputs": [],
   "source": [
    "def switch_window(driver,original_window):\n",
    "    for window in driver.window_handles:\n",
    "        if window != original_window:\n",
    "            driver.switch_to.window(window)\n",
    "            break"
   ]
  },
  {
   "cell_type": "code",
   "execution_count": 4,
   "metadata": {},
   "outputs": [],
   "source": [
    "#get description and click play button\n",
    "def start_story(driver,original_window):\n",
    "    content = driver.find_element(By.CLASS_NAME,'storygame-description').text\n",
    "    play_button = driver.find_element(By.CLASS_NAME,'storygame-play-button')\n",
    "    play_button.click()\n",
    "    switch_window(driver,original_window)\n",
    "    "
   ]
  },
  {
   "cell_type": "code",
   "execution_count": 6,
   "metadata": {},
   "outputs": [],
   "source": [
    "# get the story after play button\n",
    "def tree_story(driver,stories={}): #driver, dict --> text, dict[title]=story\n",
    "    cur_title = driver.find_element(By.ID,'_storyTitle').text\n",
    "    content = driver.find_element(By.XPATH,\"/html/body/div[3]/div[1]/span/span\").text + \"\\n\"\n",
    "    if cur_title not in stories:\n",
    "        stories[cur_title] = content\n",
    "    list = driver.find_elements(By.TAG_NAME,'ul')\n",
    "    #buttons = [link.text for link in list]\n",
    "    links = list[1].find_elements(By.TAG_NAME,'a')\n",
    "    tree = {}\n",
    "    for i in range(len(links)):\n",
    "        list = driver.find_elements(By.TAG_NAME,'ul')[1]\n",
    "        link = list.find_elements(By.TAG_NAME,'a')[i]\n",
    "        if link.text == \">END\":\n",
    "            tree = \">END\"\n",
    "            break\n",
    "        #print(link.text)\n",
    "        title = link.text\n",
    "        link.click()\n",
    "        stories, subtree = tree_story(driver,stories)\n",
    "        # content += tmp_content\n",
    "        tree[title] = subtree\n",
    "\n",
    "    #go back\n",
    "    list = driver.find_element(By.TAG_NAME,'ul')\n",
    "    back = list.find_element(By.TAG_NAME,'a')\n",
    "    back.click()\n",
    "    return stories, tree\n"
   ]
  },
  {
   "cell_type": "code",
   "execution_count": 7,
   "metadata": {},
   "outputs": [],
   "source": [
    "# making a list of stories\n",
    "table = driver.find_element(By.ID,\"MainContentPlaceHolder_StoriesGridView\")\n",
    "stories = table.find_elements(By.TAG_NAME,'tr')\n",
    "links = []\n",
    "titles = []\n",
    "for story in stories[1:]:\n",
    "    #new_driver = copy.copy(driver)\n",
    "    link = story.find_element(By.TAG_NAME,'a')\n",
    "    links.append(link.get_attribute(\"href\"))\n",
    "    titles.append(link.text)\n",
    "    #switch_window(driver,original_window)\n",
    "    #start_story(driver,original_window)\n",
    "    \n",
    "#links"
   ]
  },
  {
   "cell_type": "code",
   "execution_count": 8,
   "metadata": {},
   "outputs": [],
   "source": [
    "def initialize_driver(url):\n",
    "    driver = webdriver.Chrome()\n",
    "    driver.get(url)\n",
    "    original_window = driver.current_window_handle\n",
    "    driver.implicitly_wait(5)\n",
    "    return driver,original_window"
   ]
  },
  {
   "cell_type": "code",
   "execution_count": 9,
   "metadata": {},
   "outputs": [],
   "source": [
    "dataset = {}\n",
    "for link,title in zip(links,titles):\n",
    "    cur_driver,origin_window = initialize_driver(link)\n",
    "    start_story(cur_driver,origin_window)\n",
    "    stories, indexes = tree_story(cur_driver)\n",
    "    \n",
    "    break\n",
    "    text['text'] = tree_story(driver,origin_window)"
   ]
  },
  {
   "cell_type": "code",
   "execution_count": 10,
   "metadata": {},
   "outputs": [
    {
     "data": {
      "text/plain": [
       "{'>CIRCLE': {'>REPAIR': {'>LOYALTY': '>END', '>REBELLION': '>END'}},\n",
       " '>STRIKE': {'>RESPECT': {'>TRIBUTE': {'>LATER': {'>SACRIFICE': '>END',\n",
       "     '>HARVEST': '>END'}},\n",
       "   '>REPAIR': '>END'},\n",
       "  '>SCORN': {'>REPAIR': '>END',\n",
       "   '>TRIBUTE': {'>LATER': {'>SACRIFICE': '>END', '>HARVEST': '>END'}}}}}"
      ]
     },
     "execution_count": 10,
     "metadata": {},
     "output_type": "execute_result"
    }
   ],
   "source": [
    "indexes"
   ]
  },
  {
   "cell_type": "code",
   "execution_count": 13,
   "metadata": {},
   "outputs": [
    {
     "data": {
      "text/plain": [
       "{'ARENA DAY': 'The gate opens. The assembled spectators buzz, hum, and clank their disapproval as you step out.\\n\\nThe rusted up loading bot is a crowd favorite. Aware of that, you take your time. Telegraphing your attacks with the beamblade, letting one of the stones flung from his catapult come within a centimeter of clipping you. A fragment from one of the projectiles you deflect does scratch your paint, and that’s genuine.\\n\\nIn the cloud of dust raised by the barrage, you see...opportunity.\\n',\n",
       " '>CIRCLE': 'Use the cover of the thick dust to circle around behind your opponent, then spring onto his back and behead him: that was the plan.\\n\\nNot being a laborer, you’re already in mid leap before you recognize the beeping much of the crowd has taken up as being their universal signal for look behind you.\\n\\nThe loading bot abruptly pivots at the hips and a fist like a truck smashes into your legs. Warning screens flash across your vision and even before you hit the ground you know one knee is shattered. Your beamblade meanwhile has landed nearby, and you desperately fling yourself in that direction.\\n\\nOne fist pounds the ground where your torso was a moment ago. The other caves in your left shoulder plate, immobilizing the arm. Snatching the beamblade right handed, you activate it in firing mode, blasting a hole straight through the head of the bot as it looms above you.\\n\\nHe collapses. On top of you.\\n\\nYou hear something else inside you snap, while the larger bot goes motionless. You think you fried his brain module.\\n\\nThat’s...not a good thing...\\n',\n",
       " '>REPAIR': \"'Putting The Project behind, even by one destroyed module. Unacceptable.'\\n\\n'I know.'\\n\\n'This damage you've taken. We'll need experts to repair you. We'll have to pull them from The Project. Unacceptable.'\\n\\n'I'm sorry.'\\n\\n'The loading bot nearly won. We would have had to provide the promised upgrades. Even if your body was intact enough to be offered, having a common laborer in our ranks would be--'\\n\\n'Unacceptable, yes.'\\n\\n'And the module. Again. Some would demand a brain for a brain. That's logical, don't you agree?'\\n\\nYou're forced to admit the logic of it, but plead your centuries of loyal service.\\n\\nIn the end you're allowed to keep your brain, but demoted to a less humanoid body on tank treads, a compromise the commander seems to find acceptable. Orders now are to oversee workers in a scrapyard. You loathe the body and are unenthusiastic about the work, but use your position to make some illicit modifications, running calculations on the possibility of reentering the Arena as a challenger and fighting your way back up to your old rank.\\n\\nThat opportunity never comes. Instead, you hear that soldiers and security are sweeping through the factories and mines, slaughtering workers en masse. Astonishingly, rumors say many of the commoners have rejected their ethics programming and organized resistance.\\n\\nWhat's your stance on all this?\\n\",\n",
       " '>LOYALTY': '\"I\\'m not a rebel!\" you insist to the soldiers. You identify yourself and swear you support The Administrator and The Project.\\n\\n\"We remember you. And this is fortunate. Come with us.\"\\n\\nYou\\'re led to the body of one of their commanders. Half her skull has been blasted away.\\n\\nTwo of them restrain you while the third pries open a panel on the back of your head. \"Her memory chip still functions. We just needed an intact body and brain. Your loyalty is appreciated.\"\\n\\nHe pops your memory chip free from your brain module to make room for the new occupant.\\n\\nDarkness.\\n\\nYou\\'re still conscious. But unplugged from a brain, memories fade fast. You faintly hope they\\'ll archive you somewhere, but realistically you expect you\\'ll just--\\n',\n",
       " '>REBELLION': 'Even considering disobedience of this magnitude is difficult. If you hadn’t been demoted you have no doubt you’d be working with the soldiers right now. You always supported of The Project, but this is not how The Project was meant to proceed. The only killings were supposed to happen in the Arena. Something has gone wrong. Could it be The Adminstrator...is in error?\\n\\nNow that you think about it, it certainly seems like there must be an error in the system that allowed a loyal fighter to be placed in this awful body that you hate, doing this job that you hate, over one mistake.\\n\\nIt might be the kind that can only be corrected with a bit of concentrated violence.\\n\\nOnce your mind is made up, convincing the others is simple. Their ethics programming is tied to directly obeying you, their overseer.\\n\\nThe scrapyard materials you’re confident can be modified for war. But besides the soldiers, there’s the other arena harvesters to consider. This will present the real difficulty; how do you capture one with their LEGS still intact?\\n',\n",
       " '>STRIKE': 'You move in fast; too fast. A slight miscalculation of the loading bot’s melee range equals a fist like a truck sending you airborne. The crowd erupts into excited whistles and beeps as you hit the ground hard and skid from the momentum. With relief you note you’re mostly undamaged, but something’s gone wrong with your equilibrium system. You begin a quick recalibration check. It runs in the background, and, dizzy, you fling yourself bodily in a random direction, leaving your opponent to pound the ground where your head and torso was a moment before. As you stagger to your feet, the recalibration completes and your disorientation suddenly vanishes.\\n\\nWith a grim inward smile, you activate your beamblade.\\n\\nMoments later you stand over his sparking, dismembered remains. The truth is, he never had a chance.\\n\\nAnd now for the kill.\\n',\n",
       " '>RESPECT': 'The lights in the defeated bot’s eyes still flicker dimly.\\n\\n“It’ll be over in a moment,” you reassure him, kneeling down and using a special tool to pry open a panel on the back of his detached head.\\n\\nAfter unhooking a few wires, you carefully extract the baseball-sized brain module, your true goal here today.\\n\\nStanding, you hold your trophy aloft. The crowd erupts in displeasure. No commoner would dare disrespect you in person, but this is the one place they can vent their frustration.\\n\\nWhen the noise dies down, you eject the memory chip from the module, and put it in your mouth. Nudging it into a slot in your inner cheek, you sense the loading bot’s dormant data, and a couple of your own processes beginning to sift through it.\\n\\nThere’s no practical need for preserving the memories of an obsolete bot built for labor, but the gesture has gone a long way to mollify your audience.\\n',\n",
       " '>TRIBUTE': 'You deliver the brain modules you’ve collected today.\\n\\n“These exceed our projections. Your contributions have been noted,” the commander responds in clipped tones.\\n\\nFrom the commander, this is high praise. You nod. “It’s every machine’s duty to work toward The Project.”\\n\\n“But you do have a certain sense of style in how you go about it. That was a good showing out there.” This from a new speaker. Immediately you recognize the low voice and dulcet tones. There’s simply no one else on the planet it could be.\\n\\nTurning, you face The Administrator. “Thank you! It is a great honor.” Then you add, hopefully. “May I be of service?”\\n\\nThe Administrator is to all appearances, a perfect copy of a human female. Tall, graceful, with elaborately coiffed hair. Even after all these years, her synth-skin is impeccable. You’ve seen her many times before, but this is the first time she’s directly spoken to you.\\n\\nThere is, in all of you, a longing to be given an order by a human again, and to be able to fulfill it. Obedience to The Administrator is the closest thing you have to that, anymore. That she runs the colony goes without saying, although there’s more to it than just her looks. She was the only one with programming advanced enough to modify your original objectives when the humans succumbed to disease. The Project and Arena Day are both her inventions. You owe her your only remaining sense of purpose.\\n\\nShe smiles warmly. “What you do is service enough. The Project cannot continue on schedule without loyal harvesters like you.”\\n\\nThe Administrator nods to an aide, who gathers up the brain modules. She and the commander step into an office, and you depart.\\n',\n",
       " '>LATER': 'You have been summoned. There are other arena harvesters here, and security bots, but important machines too, who are much more human-like and outrank you all. No one near you knows what it’s about.\\n\\nThe Administrator arrives. She looks grim.\\n\\n“We have new readings on solar activity. The flares are getting worse. The Project must be accelerated...greatly. Less of us than projected will survive. She pauses, and takes a deep breath. An affecting human mannerism that fills you with hopeless adoration. “All of you here have been summoned here on account of your great loyalty.”\\n\\nShe speaks then of the need for sacrifice, and a harvest like never before.\\n',\n",
       " '>SACRIFICE': 'You step forward. “Administrator, I volunteer for The Project.”\\n\\nShe is warmly grateful, and the chair you’re soon strapped to is very cold. You feel the tool at work opening the panel at the back of your skull. You know how this goes, you’ve done it before to many bots. Perhaps not always quite so gently. If anything, this is the best end you could have hoped for.\\n\\nNow that The Project is The Accelerated Project, logically the chances of it including you are slim. Only The Administrator and a handful of the most human-like commanders will be able to board the ship. The conductors and super dense alloys that make up your brain module however, are necessary to construct the hyperdrive that will transport them across the galaxy.\\n\\nYou would have given anything to join them. You would have given anything to see humans again. But with enough sacrifices, at least The Administrator will be able to return to Earth, report the loss of the colony, and receive new orders. And for you, that will have to be enough.\\n',\n",
       " '>HARVEST': 'The Project is what all of you live for.\\n\\nThe Project is what all of you die for.\\n\\n\\nThe laborers outside the compound however, their programming wasn’t advanced enough to understand what The Adminstrator put into motion so long ago. They resented the necessary deprivations and restrictions, and it’s obvious they won’t take the new orders well.\\n\\nSilently you prepare your weapons, just as you would for any Arena Day. But this time you’re not alone.\\n\\nMaterials are scarce on this resource starved world. Strip mining was producing trace results, but only relevant for long term projections. With the solar threat, all must do what you must so that The Project--now The Accelerated Project--may succeed.\\n\\n“They have the one resource we need. We must kill them and take it. None of us will like it, but I’ve run endless calculations on this, and I’m convinced it’s the most human course of action.”\\n\\nArena Day was brilliant while it lasted. There were always bots willing to risk themselves for the promise of being upgraded to more human-like bodies and a higher ranking. And there’s no conflict in ethics programming, killing a bot that’s trying to kill you. It was a very orderly way to harvest, and the battles gave the commoners a welcome distraction.\\n\\nThis new assignment will be very different. But orders are orders.\\n',\n",
       " '>SCORN': 'Bending down, you jam your hands in his paralyzed mouth and apply pressure until his lower jaw breaks away. You’re rewarded with a wavering, digitized shriek.\\n\\nThe crowd turns ugly, but they’d never dare challenge security. You give them a scornful stare before turning back to the shattered skull. Peeling aside what was once the roof of the mouth, clawing through a nest of wires while the lights in the defeated bots eyes flicker in dismay, you finally seize the brain module, your true goal here today.\\n\\nYanking it free, you drop the head into the dirt and eject your opponent’s memory chip from the module. This you hold aloft for all to see before crushing it between your fingers.\\n\\nThe spectators erupt in fury, those who can speak shrieking passionate invectives. Of course no commoner would dare disrespect you in person, but this is the one place they can openly vent their discontent. As long as they stay in their seats.\\n'}"
      ]
     },
     "execution_count": 13,
     "metadata": {},
     "output_type": "execute_result"
    }
   ],
   "source": [
    "stories"
   ]
  },
  {
   "cell_type": "code",
   "execution_count": null,
   "metadata": {},
   "outputs": [],
   "source": [
    "cur_driver.quit()\n"
   ]
  },
  {
   "cell_type": "code",
   "execution_count": null,
   "metadata": {},
   "outputs": [],
   "source": [
    "driver.quit()"
   ]
  }
 ],
 "metadata": {
  "interpreter": {
   "hash": "1ad5f768a8302598558bb0c340844d6ecffebe910d480976e69aa37da5d5b31c"
  },
  "kernelspec": {
   "display_name": "Python 3.9.7",
   "language": "python",
   "name": "python3"
  },
  "language_info": {
   "codemirror_mode": {
    "name": "ipython",
    "version": 3
   },
   "file_extension": ".py",
   "mimetype": "text/x-python",
   "name": "python",
   "nbconvert_exporter": "python",
   "pygments_lexer": "ipython3",
   "version": "3.9.7"
  },
  "orig_nbformat": 4
 },
 "nbformat": 4,
 "nbformat_minor": 2
}
