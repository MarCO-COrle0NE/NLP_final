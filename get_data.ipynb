{
 "cells": [
  {
   "cell_type": "code",
   "execution_count": 1,
   "metadata": {},
   "outputs": [],
   "source": [
    "from selenium import webdriver\n",
    "from selenium.webdriver.common.by import By\n",
    "import os"
   ]
  },
  {
   "cell_type": "code",
   "execution_count": 2,
   "metadata": {},
   "outputs": [],
   "source": [
    "os.environ['PATH'] += r\"/Users/marcolee/Desktop/chromedriver_mac_arm64\"\n",
    "driver = webdriver.Chrome()\n",
    "url = \"https://chooseyourstory.com/Stories/Sci-Fi.aspx\"\n",
    "driver.get(url)\n",
    "original_window = driver.current_window_handle\n",
    "driver.implicitly_wait(5)"
   ]
  },
  {
   "cell_type": "code",
   "execution_count": 3,
   "metadata": {},
   "outputs": [],
   "source": [
    "def switch_window(driver,original_window):\n",
    "    for window in driver.window_handles:\n",
    "        if window != original_window:\n",
    "            driver.switch_to.window(window)\n",
    "            break"
   ]
  },
  {
   "cell_type": "code",
   "execution_count": 4,
   "metadata": {},
   "outputs": [],
   "source": [
    "#get description and click play button\n",
    "def start_story(driver,original_window):\n",
    "    #content = driver.find_element(By.CLASS_NAME,'storygame-description').text\n",
    "    play_button = driver.find_element(By.CLASS_NAME,'storygame-play-button')\n",
    "    play_button.click()\n",
    "    switch_window(driver,original_window)\n",
    "    "
   ]
  },
  {
   "cell_type": "code",
   "execution_count": 16,
   "metadata": {},
   "outputs": [],
   "source": [
    "# get the story after play button\n",
    "def tree_story(driver,stories={},depth=0): #driver, dict --> text, dict[title]=story\n",
    "    if depth >= 7:\n",
    "        return stories, \"END\"\n",
    "    try:\n",
    "        cur_title = driver.find_element(By.ID,'_storyTitle').text\n",
    "    except:\n",
    "        return stories, \"END\"\n",
    "    if 'comment' in cur_title.lower():\n",
    "        return stories,\"END\"\n",
    "    content = driver.find_element(By.XPATH,\"/html/body/div[3]/div[1]\").text + \"\\n\"\n",
    "    if not stories:\n",
    "        flag = True\n",
    "    else:\n",
    "        flag = False\n",
    "    if cur_title not in stories:\n",
    "        stories[cur_title] = content\n",
    "    # else:\n",
    "        #     return stories, cur_title\n",
    "    try:\n",
    "        list = driver.find_elements(By.TAG_NAME,'ul')\n",
    "    except:\n",
    "        return stories,'END'\n",
    "        #buttons = [link.text for link in list]\n",
    "    links = list[1].find_elements(By.TAG_NAME,'a')\n",
    "    tree = {}\n",
    "    for i in range(len(links)):\n",
    "        try:\n",
    "            list = driver.find_elements(By.TAG_NAME,'ul')[1]\n",
    "            link = list.find_elements(By.TAG_NAME,'a')[i]\n",
    "        except IndexError:\n",
    "            return stories,tree\n",
    "            #print(link.text)\n",
    "        title = link.text\n",
    "        if 'end' in title.lower():\n",
    "            tree = \"END\"\n",
    "            break\n",
    "        elif title in stories.keys():\n",
    "            tree[title] = \"END\"\n",
    "            continue\n",
    "        link.click()\n",
    "        stories, subtree = tree_story(driver,stories,depth=depth+1)\n",
    "            # content += tmp_content\n",
    "        tree[title] = subtree\n",
    "\n",
    "    #go back\n",
    "    list = driver.find_element(By.TAG_NAME,'ul')\n",
    "    back = list.find_element(By.TAG_NAME,'a')\n",
    "    back.click()\n",
    "    if flag:\n",
    "        return stories, {cur_title:tree}\n",
    "    return stories, tree\n"
   ]
  },
  {
   "cell_type": "code",
   "execution_count": 7,
   "metadata": {},
   "outputs": [],
   "source": [
    "# making a list of stories\n",
    "table = driver.find_element(By.ID,\"MainContentPlaceHolder_StoriesGridView\")\n",
    "stories = table.find_elements(By.TAG_NAME,'tr')\n",
    "links = []\n",
    "titles = []\n",
    "for story in stories[1:]:\n",
    "    #new_driver = copy.copy(driver)\n",
    "    link = story.find_element(By.TAG_NAME,'a')\n",
    "    links.append(link.get_attribute(\"href\"))\n",
    "    titles.append(link.text)\n",
    "    #switch_window(driver,original_window)\n",
    "    #start_story(driver,original_window)\n",
    "    \n",
    "#links"
   ]
  },
  {
   "cell_type": "code",
   "execution_count": 8,
   "metadata": {},
   "outputs": [],
   "source": [
    "def initialize_driver(url):\n",
    "    driver = webdriver.Chrome()\n",
    "    driver.get(url)\n",
    "    original_window = driver.current_window_handle\n",
    "    #driver.implicitly_wait(5)\n",
    "    return driver,original_window"
   ]
  },
  {
   "cell_type": "code",
   "execution_count": 12,
   "metadata": {},
   "outputs": [
    {
     "data": {
      "text/plain": [
       "58"
      ]
     },
     "execution_count": 12,
     "metadata": {},
     "output_type": "execute_result"
    }
   ],
   "source": [
    "len(links)"
   ]
  },
  {
   "cell_type": "code",
   "execution_count": 14,
   "metadata": {},
   "outputs": [],
   "source": [
    "scifi=[]"
   ]
  },
  {
   "cell_type": "code",
   "execution_count": 23,
   "metadata": {},
   "outputs": [],
   "source": [
    "cur_driver.quit()"
   ]
  },
  {
   "cell_type": "code",
   "execution_count": null,
   "metadata": {},
   "outputs": [],
   "source": [
    "# some unwanted games noticed during the scraping\n",
    "#in the fields\n",
    "#tales of the solar schism"
   ]
  },
  {
   "cell_type": "code",
   "execution_count": 25,
   "metadata": {},
   "outputs": [],
   "source": [
    "while len(links) != 0:\n",
    "    link = links.pop(0)\n",
    "    title = titles.pop(0)\n",
    "    cur_driver,origin_window = initialize_driver(link)\n",
    "    start_story(cur_driver,origin_window)\n",
    "    stories, indexes = tree_story(cur_driver,stories={})\n",
    "    scifi.append({'title':title,'stories':stories,'tree':indexes})\n",
    "    cur_driver.quit()"
   ]
  },
  {
   "cell_type": "code",
   "execution_count": 42,
   "metadata": {},
   "outputs": [],
   "source": [
    "cur_driver.quit()\n",
    "driver.quit()"
   ]
  },
  {
   "cell_type": "code",
   "execution_count": null,
   "metadata": {},
   "outputs": [],
   "source": [
    "len(scifi)"
   ]
  },
  {
   "cell_type": "markdown",
   "metadata": {},
   "source": [
    "Removing some bad story games"
   ]
  },
  {
   "cell_type": "code",
   "execution_count": null,
   "metadata": {},
   "outputs": [],
   "source": [
    "remove_list = []\n",
    "for i in scifi:\n",
    "    if len(i['stories']) <= 3:\n",
    "        remove_list.append(i)\n",
    "    elif 'the solar' in i['title'].lower():\n",
    "        remove_list.append(i)"
   ]
  },
  {
   "cell_type": "code",
   "execution_count": null,
   "metadata": {},
   "outputs": [],
   "source": [
    "for i in remove_list:\n",
    "    scifi.remove(i)"
   ]
  },
  {
   "cell_type": "code",
   "execution_count": null,
   "metadata": {},
   "outputs": [],
   "source": [
    "len(scifi)"
   ]
  },
  {
   "cell_type": "code",
   "execution_count": 28,
   "metadata": {},
   "outputs": [],
   "source": [
    "import json"
   ]
  },
  {
   "cell_type": "code",
   "execution_count": 29,
   "metadata": {},
   "outputs": [
    {
     "data": {
      "text/plain": [
       "dict_keys(['title', 'stories', 'tree'])"
      ]
     },
     "execution_count": 29,
     "metadata": {},
     "output_type": "execute_result"
    }
   ],
   "source": [
    "scifi[0].keys()"
   ]
  },
  {
   "cell_type": "code",
   "execution_count": 61,
   "metadata": {},
   "outputs": [],
   "source": [
    "with open('scifi_text.json','w') as file:\n",
    "    json.dump(scifi,file)"
   ]
  },
  {
   "cell_type": "code",
   "execution_count": 33,
   "metadata": {},
   "outputs": [],
   "source": [
    "import pandas as pd"
   ]
  },
  {
   "cell_type": "code",
   "execution_count": 62,
   "metadata": {},
   "outputs": [
    {
     "data": {
      "text/html": [
       "<div>\n",
       "<style scoped>\n",
       "    .dataframe tbody tr th:only-of-type {\n",
       "        vertical-align: middle;\n",
       "    }\n",
       "\n",
       "    .dataframe tbody tr th {\n",
       "        vertical-align: top;\n",
       "    }\n",
       "\n",
       "    .dataframe thead th {\n",
       "        text-align: right;\n",
       "    }\n",
       "</style>\n",
       "<table border=\"1\" class=\"dataframe\">\n",
       "  <thead>\n",
       "    <tr style=\"text-align: right;\">\n",
       "      <th></th>\n",
       "      <th>title</th>\n",
       "      <th>stories</th>\n",
       "      <th>tree</th>\n",
       "    </tr>\n",
       "  </thead>\n",
       "  <tbody>\n",
       "    <tr>\n",
       "      <th>0</th>\n",
       "      <td>&gt;DEVOTION</td>\n",
       "      <td>{'ARENA DAY': 'The gate opens. The assembled s...</td>\n",
       "      <td>{'ARENA DAY': {'&gt;CIRCLE': {'&gt;REPAIR': {'&gt;LOYAL...</td>\n",
       "    </tr>\n",
       "    <tr>\n",
       "      <th>1</th>\n",
       "      <td>A Metric Measurment of Death</td>\n",
       "      <td>{'Born free': 'You wake up to a throbbing head...</td>\n",
       "      <td>{'Born free': {'The Decision': {'Gary Jerome, ...</td>\n",
       "    </tr>\n",
       "    <tr>\n",
       "      <th>2</th>\n",
       "      <td>A UFO at School</td>\n",
       "      <td>{'A UFO at School': '\n",
       "', 'Math Class': 'It is ...</td>\n",
       "      <td>{'A UFO at School': {'': {'Gavin stays quiet a...</td>\n",
       "    </tr>\n",
       "    <tr>\n",
       "      <th>3</th>\n",
       "      <td>Achilles</td>\n",
       "      <td>{'The First Page': 'You are General Achilles. ...</td>\n",
       "      <td>{'The First Page': {'Garavan': {'Back': {'Gara...</td>\n",
       "    </tr>\n",
       "    <tr>\n",
       "      <th>4</th>\n",
       "      <td>Achilles II: The Chykri</td>\n",
       "      <td>{'AWAKEN': 'AWAKEN\n",
       "\n",
       "\n",
       "A surge of energy runs th...</td>\n",
       "      <td>{'AWAKEN': {'Continue': {'Yes': {\"Mankind's Co...</td>\n",
       "    </tr>\n",
       "    <tr>\n",
       "      <th>...</th>\n",
       "      <td>...</td>\n",
       "      <td>...</td>\n",
       "      <td>...</td>\n",
       "    </tr>\n",
       "    <tr>\n",
       "      <th>86</th>\n",
       "      <td>Utopia Planitia</td>\n",
       "      <td>{'A Book of Many Fates': 'UTOPIA PLANITIA\n",
       "\n",
       "\n",
       "Bi...</td>\n",
       "      <td>{'A Book of Many Fates': {'Next page.': {'Read...</td>\n",
       "    </tr>\n",
       "    <tr>\n",
       "      <th>87</th>\n",
       "      <td>WARCHIMP</td>\n",
       "      <td>{'Beginning': 'The days when the gods walked t...</td>\n",
       "      <td>{'Beginning': {'CAMP': {'TALK TO DEATH MASK AN...</td>\n",
       "    </tr>\n",
       "    <tr>\n",
       "      <th>88</th>\n",
       "      <td>Who STILL wants to be a Supervillian?</td>\n",
       "      <td>{'Does it hurt?': '\"You know what I love about...</td>\n",
       "      <td>{'Does it hurt?': {'It Hurts': {'Why are we he...</td>\n",
       "    </tr>\n",
       "    <tr>\n",
       "      <th>89</th>\n",
       "      <td>Who wants to be a Supervillain?</td>\n",
       "      <td>{'The Beginning': 'Today is your first day, yo...</td>\n",
       "      <td>{'The Beginning': 'END'}</td>\n",
       "    </tr>\n",
       "    <tr>\n",
       "      <th>90</th>\n",
       "      <td>Would you survive an Alien Invasion?</td>\n",
       "      <td>{'Alien Invasion!': 'You see funny lights in t...</td>\n",
       "      <td>{'Alien Invasion!': {'Haha, weirdos. Everyone ...</td>\n",
       "    </tr>\n",
       "  </tbody>\n",
       "</table>\n",
       "<p>91 rows × 3 columns</p>\n",
       "</div>"
      ],
      "text/plain": [
       "                                    title  \\\n",
       "0                               >DEVOTION   \n",
       "1            A Metric Measurment of Death   \n",
       "2                         A UFO at School   \n",
       "3                                Achilles   \n",
       "4                 Achilles II: The Chykri   \n",
       "..                                    ...   \n",
       "86                        Utopia Planitia   \n",
       "87                               WARCHIMP   \n",
       "88  Who STILL wants to be a Supervillian?   \n",
       "89        Who wants to be a Supervillain?   \n",
       "90   Would you survive an Alien Invasion?   \n",
       "\n",
       "                                              stories  \\\n",
       "0   {'ARENA DAY': 'The gate opens. The assembled s...   \n",
       "1   {'Born free': 'You wake up to a throbbing head...   \n",
       "2   {'A UFO at School': '\n",
       "', 'Math Class': 'It is ...   \n",
       "3   {'The First Page': 'You are General Achilles. ...   \n",
       "4   {'AWAKEN': 'AWAKEN\n",
       "\n",
       "\n",
       "A surge of energy runs th...   \n",
       "..                                                ...   \n",
       "86  {'A Book of Many Fates': 'UTOPIA PLANITIA\n",
       "\n",
       "\n",
       "Bi...   \n",
       "87  {'Beginning': 'The days when the gods walked t...   \n",
       "88  {'Does it hurt?': '\"You know what I love about...   \n",
       "89  {'The Beginning': 'Today is your first day, yo...   \n",
       "90  {'Alien Invasion!': 'You see funny lights in t...   \n",
       "\n",
       "                                                 tree  \n",
       "0   {'ARENA DAY': {'>CIRCLE': {'>REPAIR': {'>LOYAL...  \n",
       "1   {'Born free': {'The Decision': {'Gary Jerome, ...  \n",
       "2   {'A UFO at School': {'': {'Gavin stays quiet a...  \n",
       "3   {'The First Page': {'Garavan': {'Back': {'Gara...  \n",
       "4   {'AWAKEN': {'Continue': {'Yes': {\"Mankind's Co...  \n",
       "..                                                ...  \n",
       "86  {'A Book of Many Fates': {'Next page.': {'Read...  \n",
       "87  {'Beginning': {'CAMP': {'TALK TO DEATH MASK AN...  \n",
       "88  {'Does it hurt?': {'It Hurts': {'Why are we he...  \n",
       "89                           {'The Beginning': 'END'}  \n",
       "90  {'Alien Invasion!': {'Haha, weirdos. Everyone ...  \n",
       "\n",
       "[91 rows x 3 columns]"
      ]
     },
     "execution_count": 62,
     "metadata": {},
     "output_type": "execute_result"
    }
   ],
   "source": [
    "scifi2 = pd.read_json('scifi_text.json')\n",
    "scifi2"
   ]
  }
 ],
 "metadata": {
  "interpreter": {
   "hash": "1ad5f768a8302598558bb0c340844d6ecffebe910d480976e69aa37da5d5b31c"
  },
  "kernelspec": {
   "display_name": "Python 3.9.7",
   "language": "python",
   "name": "python3"
  },
  "language_info": {
   "codemirror_mode": {
    "name": "ipython",
    "version": 3
   },
   "file_extension": ".py",
   "mimetype": "text/x-python",
   "name": "python",
   "nbconvert_exporter": "python",
   "pygments_lexer": "ipython3",
   "version": "3.9.7"
  },
  "orig_nbformat": 4
 },
 "nbformat": 4,
 "nbformat_minor": 2
}
