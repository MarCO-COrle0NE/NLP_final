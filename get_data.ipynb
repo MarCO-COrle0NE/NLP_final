{
 "cells": [
  {
   "cell_type": "code",
   "execution_count": null,
   "metadata": {},
   "outputs": [],
   "source": [
    "# import urllib.request\n",
    "# from bs4 import BeautifulSoup\n",
    "# import csv\n",
    "# import pandas as pd\n",
    "# import numpy as np\n",
    "# import requests \n",
    "# import html5lib\n",
    "# import urllib3"
   ]
  },
  {
   "cell_type": "code",
   "execution_count": 1,
   "metadata": {},
   "outputs": [],
   "source": [
    "from selenium import webdriver\n",
    "from selenium.webdriver.common.by import By\n",
    "import os"
   ]
  },
  {
   "cell_type": "code",
   "execution_count": 24,
   "metadata": {},
   "outputs": [],
   "source": [
    "os.environ['PATH'] += r\"/Users/marcolee/Desktop/chromedriver_mac_arm64\"\n",
    "driver = webdriver.Chrome()\n",
    "url = \"https://chooseyourstory.com/Stories/Sci-Fi.aspx\"\n",
    "driver.get(url)\n",
    "original_window = driver.current_window_handle\n",
    "driver.implicitly_wait(5)"
   ]
  },
  {
   "cell_type": "code",
   "execution_count": 3,
   "metadata": {},
   "outputs": [],
   "source": [
    "def switch_window(driver,original_window):\n",
    "    for window in driver.window_handles:\n",
    "        if window != original_window:\n",
    "            driver.switch_to.window(window)\n",
    "            break"
   ]
  },
  {
   "cell_type": "code",
   "execution_count": 4,
   "metadata": {},
   "outputs": [],
   "source": [
    "#get description and click play button\n",
    "def start_story(driver,original_window):\n",
    "    content = driver.find_element(By.CLASS_NAME,'storygame-description').text\n",
    "    play_button = driver.find_element(By.CLASS_NAME,'storygame-play-button')\n",
    "    play_button.click()\n",
    "    switch_window(driver,original_window)\n",
    "    "
   ]
  },
  {
   "cell_type": "code",
   "execution_count": 28,
   "metadata": {},
   "outputs": [],
   "source": [
    "# get the story after play button\n",
    "def tree_story(driver,stories={}): #driver, dict --> text, dict[title]=story\n",
    "    cur_title = driver.find_element(By.ID,'_storyTitle').text\n",
    "    content = driver.find_element(By.XPATH,\"/html/body/div[3]/div[1]\").text + \"\\n\"\n",
    "    if cur_title not in stories:\n",
    "        stories[cur_title] = content\n",
    "    list = driver.find_elements(By.TAG_NAME,'ul')\n",
    "    #buttons = [link.text for link in list]\n",
    "    links = list[1].find_elements(By.TAG_NAME,'a')\n",
    "    tree = {}\n",
    "    for i in range(len(links)):\n",
    "        list = driver.find_elements(By.TAG_NAME,'ul')[1]\n",
    "        link = list.find_elements(By.TAG_NAME,'a')[i]\n",
    "        if link.text == \">END\":\n",
    "            tree = \">END\"\n",
    "            break\n",
    "        #print(link.text)\n",
    "        title = link.text\n",
    "        link.click()\n",
    "        stories, subtree = tree_story(driver,stories)\n",
    "        # content += tmp_content\n",
    "        tree[title] = subtree\n",
    "\n",
    "    #go back\n",
    "    list = driver.find_element(By.TAG_NAME,'ul')\n",
    "    back = list.find_element(By.TAG_NAME,'a')\n",
    "    back.click()\n",
    "    return stories, tree\n"
   ]
  },
  {
   "cell_type": "code",
   "execution_count": 26,
   "metadata": {},
   "outputs": [],
   "source": [
    "# making a list of stories\n",
    "table = driver.find_element(By.ID,\"MainContentPlaceHolder_StoriesGridView\")\n",
    "stories = table.find_elements(By.TAG_NAME,'tr')\n",
    "links = []\n",
    "titles = []\n",
    "for story in stories[1:]:\n",
    "    #new_driver = copy.copy(driver)\n",
    "    link = story.find_element(By.TAG_NAME,'a')\n",
    "    links.append(link.get_attribute(\"href\"))\n",
    "    titles.append(link.text)\n",
    "    #switch_window(driver,original_window)\n",
    "    #start_story(driver,original_window)\n",
    "    \n",
    "#links"
   ]
  },
  {
   "cell_type": "code",
   "execution_count": 8,
   "metadata": {},
   "outputs": [],
   "source": [
    "def initialize_driver(url):\n",
    "    driver = webdriver.Chrome()\n",
    "    driver.get(url)\n",
    "    original_window = driver.current_window_handle\n",
    "    driver.implicitly_wait(5)\n",
    "    return driver,original_window"
   ]
  },
  {
   "cell_type": "code",
   "execution_count": 30,
   "metadata": {},
   "outputs": [
    {
     "data": {
      "text/plain": [
       "109"
      ]
     },
     "execution_count": 30,
     "metadata": {},
     "output_type": "execute_result"
    }
   ],
   "source": [
    "len(links)"
   ]
  },
  {
   "cell_type": "code",
   "execution_count": null,
   "metadata": {},
   "outputs": [],
   "source": [
    "scifi = []\n",
    "for link,title in zip(links,titles):\n",
    "    cur_driver,origin_window = initialize_driver(link)\n",
    "    start_story(cur_driver,origin_window)\n",
    "    stories, indexes = tree_story(cur_driver)\n",
    "    scifi.append({'title':title,'stories':stories,'tree':indexes})\n",
    "    cur_driver.quit()"
   ]
  },
  {
   "cell_type": "code",
   "execution_count": 18,
   "metadata": {},
   "outputs": [
    {
     "data": {
      "text/plain": [
       "{'>CIRCLE': {'>REPAIR': {'>LOYALTY': '>END', '>REBELLION': '>END'}},\n",
       " '>STRIKE': {'>RESPECT': {'>TRIBUTE': {'>LATER': {'>SACRIFICE': '>END',\n",
       "     '>HARVEST': '>END'}},\n",
       "   '>REPAIR': '>END'},\n",
       "  '>SCORN': {'>REPAIR': '>END',\n",
       "   '>TRIBUTE': {'>LATER': {'>SACRIFICE': '>END', '>HARVEST': '>END'}}}}}"
      ]
     },
     "execution_count": 18,
     "metadata": {},
     "output_type": "execute_result"
    }
   ],
   "source": [
    "indexes"
   ]
  },
  {
   "cell_type": "code",
   "execution_count": null,
   "metadata": {},
   "outputs": [],
   "source": [
    "stories"
   ]
  },
  {
   "cell_type": "code",
   "execution_count": 29,
   "metadata": {},
   "outputs": [],
   "source": [
    "cur_driver.quit()\n"
   ]
  },
  {
   "cell_type": "code",
   "execution_count": 23,
   "metadata": {},
   "outputs": [],
   "source": [
    "driver.quit()"
   ]
  },
  {
   "cell_type": "code",
   "execution_count": 15,
   "metadata": {},
   "outputs": [],
   "source": [
    "import csv"
   ]
  },
  {
   "cell_type": "code",
   "execution_count": 21,
   "metadata": {},
   "outputs": [],
   "source": [
    "with open('scifi_text.csv','w') as file:\n",
    "    writer = csv.dictwriter(file,scifi[0].keys())\n",
    "    writer.writerows(scifi)"
   ]
  }
 ],
 "metadata": {
  "interpreter": {
   "hash": "1ad5f768a8302598558bb0c340844d6ecffebe910d480976e69aa37da5d5b31c"
  },
  "kernelspec": {
   "display_name": "Python 3.9.7",
   "language": "python",
   "name": "python3"
  },
  "language_info": {
   "codemirror_mode": {
    "name": "ipython",
    "version": 3
   },
   "file_extension": ".py",
   "mimetype": "text/x-python",
   "name": "python",
   "nbconvert_exporter": "python",
   "pygments_lexer": "ipython3",
   "version": "3.9.7"
  },
  "orig_nbformat": 4
 },
 "nbformat": 4,
 "nbformat_minor": 2
}
