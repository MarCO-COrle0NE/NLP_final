{
 "cells": [
  {
   "cell_type": "code",
   "execution_count": null,
   "metadata": {},
   "outputs": [],
   "source": [
    "import urllib.request\n",
    "from bs4 import BeautifulSoup\n",
    "import csv\n",
    "import pandas as pd\n",
    "import numpy as np\n",
    "import requests \n",
    "import html5lib\n",
    "import urllib3"
   ]
  },
  {
   "cell_type": "code",
   "execution_count": 1,
   "metadata": {},
   "outputs": [],
   "source": [
    "from selenium import webdriver\n",
    "from selenium.webdriver.common.by import By\n",
    "import os\n",
    "import copy"
   ]
  },
  {
   "cell_type": "code",
   "execution_count": 2,
   "metadata": {},
   "outputs": [],
   "source": [
    "os.environ['PATH'] += r\"/Users/marcolee/Desktop/chromedriver_mac_arm64\"\n",
    "driver = webdriver.Chrome()\n",
    "url = \"https://chooseyourstory.com/Stories/Sci-Fi.aspx\"\n",
    "driver.get(url)\n",
    "original_window = driver.current_window_handle\n",
    "driver.implicitly_wait(5)"
   ]
  },
  {
   "cell_type": "code",
   "execution_count": 3,
   "metadata": {},
   "outputs": [],
   "source": [
    "def switch_window(driver,original_window):\n",
    "    for window in driver.window_handles:\n",
    "        if window != original_window:\n",
    "            driver.switch_to.window(window)\n",
    "            break"
   ]
  },
  {
   "cell_type": "code",
   "execution_count": 4,
   "metadata": {},
   "outputs": [],
   "source": [
    "#get description and click play button\n",
    "def start_story(driver,original_window):\n",
    "    content = driver.find_element(By.CLASS_NAME,'storygame-description').text\n",
    "    play_button = driver.find_element(By.CLASS_NAME,'storygame-play-button')\n",
    "    play_button.click()\n",
    "    switch_window(driver,original_window)\n",
    "    "
   ]
  },
  {
   "cell_type": "code",
   "execution_count": 13,
   "metadata": {},
   "outputs": [],
   "source": [
    "# get the story after play button\n",
    "def tree_story(driver):\n",
    "    content = driver.find_element(By.ID,'_storyTitle').text + \"\\n\"\n",
    "    content += driver.find_element(By.XPATH,\"/html/body/div[3]/div[1]/span/span\").text + \"\\n\"\n",
    "    list = driver.find_elements(By.TAG_NAME,'ul')\n",
    "    #buttons = [link.text for link in list]\n",
    "    links = list[1].find_elements(By.TAG_NAME,'a')\n",
    "    dict = {}\n",
    "    for i in range(len(links)):\n",
    "        list = driver.find_elements(By.TAG_NAME,'ul')[1]\n",
    "        link = list.find_elements(By.TAG_NAME,'a')[i]\n",
    "        if link.text == \">END\":\n",
    "            dict = \">END\"\n",
    "            break\n",
    "        #print(link.text)\n",
    "        title = link.text\n",
    "        link.click()\n",
    "        tmp_content, tmp_dict = tree_story(driver)\n",
    "        content += tmp_content\n",
    "        dict[title] = tmp_dict\n",
    "    #print('back')\n",
    "    list = driver.find_element(By.TAG_NAME,'ul')\n",
    "    back = list.find_element(By.TAG_NAME,'a')\n",
    "    back.click() #smth wrong here\n",
    "    return content, dict\n"
   ]
  },
  {
   "cell_type": "code",
   "execution_count": 6,
   "metadata": {},
   "outputs": [],
   "source": [
    "# making a list of stories\n",
    "table = driver.find_element(By.ID,\"MainContentPlaceHolder_StoriesGridView\")\n",
    "stories = table.find_elements(By.TAG_NAME,'tr')\n",
    "links = []\n",
    "titles = []\n",
    "for story in stories[1:]:\n",
    "    #new_driver = copy.copy(driver)\n",
    "    link = story.find_element(By.TAG_NAME,'a')\n",
    "    links.append(link.get_attribute(\"href\"))\n",
    "    titles.append(link.text)\n",
    "    #switch_window(driver,original_window)\n",
    "    #start_story(driver,original_window)\n",
    "    \n",
    "#links"
   ]
  },
  {
   "cell_type": "code",
   "execution_count": 7,
   "metadata": {},
   "outputs": [],
   "source": [
    "def initialize_driver(url):\n",
    "    driver = webdriver.Chrome()\n",
    "    driver.get(url)\n",
    "    original_window = driver.current_window_handle\n",
    "    driver.implicitly_wait(5)\n",
    "    return driver,original_window"
   ]
  },
  {
   "cell_type": "code",
   "execution_count": 14,
   "metadata": {},
   "outputs": [],
   "source": [
    "\n",
    "for link,title in zip(links,titles):\n",
    "    cur_driver,origin_window = initialize_driver(link)\n",
    "    start_story(cur_driver,origin_window)\n",
    "    content, indexes = tree_story(cur_driver)\n",
    "    \n",
    "    break\n",
    "    text['text'] = tree_story(driver,origin_window)"
   ]
  },
  {
   "cell_type": "code",
   "execution_count": 15,
   "metadata": {},
   "outputs": [
    {
     "data": {
      "text/plain": [
       "{'>CIRCLE': {'>REPAIR': {'>LOYALTY': {'>END': None},\n",
       "   '>REBELLION': {'>END': None}}},\n",
       " '>STRIKE': {'>RESPECT': {'>TRIBUTE': {'>LATER': {'>SACRIFICE': {'>END': None},\n",
       "     '>HARVEST': {'>END': None}}},\n",
       "   '>REPAIR': {'>END': None}},\n",
       "  '>SCORN': {'>REPAIR': {'>END': None},\n",
       "   '>TRIBUTE': {'>LATER': {'>SACRIFICE': {'>END': None},\n",
       "     '>HARVEST': {'>END': None}}}}}}"
      ]
     },
     "execution_count": 15,
     "metadata": {},
     "output_type": "execute_result"
    }
   ],
   "source": [
    "indexes"
   ]
  },
  {
   "cell_type": "code",
   "execution_count": 16,
   "metadata": {},
   "outputs": [
    {
     "data": {
      "text/plain": [
       "{'>REPAIR': {'>LOYALTY': {'>END': None}, '>REBELLION': {'>END': None}}}"
      ]
     },
     "execution_count": 16,
     "metadata": {},
     "output_type": "execute_result"
    }
   ],
   "source": [
    "indexes['>CIRCLE']"
   ]
  },
  {
   "cell_type": "code",
   "execution_count": 22,
   "metadata": {},
   "outputs": [],
   "source": [
    "start_story(cur_driver,origin_window)"
   ]
  },
  {
   "cell_type": "code",
   "execution_count": null,
   "metadata": {},
   "outputs": [],
   "source": [
    "tree_story(cur_driver)"
   ]
  }
 ],
 "metadata": {
  "interpreter": {
   "hash": "1ad5f768a8302598558bb0c340844d6ecffebe910d480976e69aa37da5d5b31c"
  },
  "kernelspec": {
   "display_name": "Python 3.9.7",
   "language": "python",
   "name": "python3"
  },
  "language_info": {
   "codemirror_mode": {
    "name": "ipython",
    "version": 3
   },
   "file_extension": ".py",
   "mimetype": "text/x-python",
   "name": "python",
   "nbconvert_exporter": "python",
   "pygments_lexer": "ipython3",
   "version": "3.9.7"
  },
  "orig_nbformat": 4
 },
 "nbformat": 4,
 "nbformat_minor": 2
}
